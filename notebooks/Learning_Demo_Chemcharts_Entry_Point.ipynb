{
 "cells": [
  {
   "cell_type": "markdown",
   "id": "hourly-hostel",
   "metadata": {},
   "source": [
    "# ChemCharts Command-Line Interface (Entry Point) "
   ]
  },
  {
   "cell_type": "markdown",
   "id": "monetary-stranger",
   "metadata": {},
   "source": [
    "## Preparation\n",
    "To use `ChemCharts` in your console start with the following steps:"
   ]
  },
  {
   "cell_type": "code",
   "execution_count": null,
   "id": "owned-potter",
   "metadata": {},
   "outputs": [],
   "source": [
    "# activate ChemCharts environment\n",
    "conda activate chemcharts"
   ]
  },
  {
   "cell_type": "markdown",
   "id": "respective-malawi",
   "metadata": {},
   "source": [
    "## Execution\n",
    "In order to execute the program, two parameters are obligatory: `input_data` (data set) and `output_plot` (path).\n",
    "\n",
    "### chemcharts_cli"
   ]
  },
  {
   "cell_type": "code",
   "execution_count": null,
   "id": "boolean-alpha",
   "metadata": {},
   "outputs": [],
   "source": [
    "-input_data <path>    # Path to input csv file (Caution: Here only one input dataset is possible - \n",
    "                      # for multiple input data please use the JSON entry point)  \n",
    "                      # type=str    \n",
    "                      # required\n",
    "        \n",
    "-output_plot <path>   # Path to output plot file \n",
    "                      # type=str   \n",
    "                      # required\n",
    "\n",
    "-output_movie <path>  # Path to output movie \n",
    "                      # type=str               \n",
    "                      # default=None"
   ]
  },
  {
   "cell_type": "markdown",
   "id": "touched-bowling",
   "metadata": {},
   "source": [
    "There are additional arguments available:"
   ]
  },
  {
   "cell_type": "code",
   "execution_count": null,
   "id": "smart-child",
   "metadata": {},
   "outputs": [],
   "source": [
    "-dataset_name <name>  # Name your dataset \n",
    "                      # type=str               \n",
    "                      # default=None\n",
    "                   \n",
    "    \n",
    "-save_data <path>     # Path to output processed ChemData object \n",
    "                      # type=str               \n",
    "                      # default=None\n",
    "\n",
    "-k <number>           # Number of clusters for KMeans\n",
    "                      # type=int\n",
    "                      # default = 10\n",
    "                   \n",
    "\n",
    "-plot <type>          # Choose a plot type:\n",
    "                            # scatter_static_plot\n",
    "                            # scatter_boxplot_plot\n",
    "                            # scatter_interactive_plot\n",
    "                            # scatter_interactive_mol_plot\n",
    "                            # histogram_plot (no movie function possible)\n",
    "                            # trisurf_static_plot\n",
    "                            # trisurf_interactive_plot (no movie function possible)\n",
    "                            # hexagonal_plot \n",
    "                      # type=str\n",
    "                      # default = hexagonal_plot\n",
    "                   \n",
    "                    \n",
    "-view <bool>          # Choose view setting 'True' or 'False' (default=\"False\")\n",
    "                      # type=bool\n",
    "                      # default = False\n",
    "                   \n",
    "                    \n",
    "-data <data_set>      # Choose the state of the data set to be used for plotting:\n",
    "                             # filtered_data\n",
    "                             # clustered_data\n",
    "                             # filtered_clustered_data\n",
    "                             # original_data (no filtering or clustering)\n",
    "                      # type=str\n",
    "                      # default = origional_data\n",
    "                   \n",
    "    \n",
    "-binning <amount>     # Choose the amount of bins\n",
    "                      # type=int\n",
    "                      # default = None\n",
    "                   "
   ]
  },
  {
   "cell_type": "markdown",
   "id": "collective-county",
   "metadata": {},
   "source": [
    "## Examples\n",
    "Please see the following examples:"
   ]
  },
  {
   "cell_type": "code",
   "execution_count": null,
   "id": "tested-catalyst",
   "metadata": {},
   "outputs": [],
   "source": [
    "# generates a movie for hexagonal plot (default) generation\n",
    "chemcharts_cli -input_data data/scaffold_memory.csv \\\n",
    "               -output_plot test.png \\\n",
    "               -output_movie movie.mp4   \n",
    "\n",
    "# generates a scatter_interactive_plot     \n",
    "chemcharts_cli -input_data data/scaffold_memory.csv \\        \n",
    "               -output_plot test.png \\\n",
    "               -plot scatter_interactive_plot \\\n",
    "               -view True\n",
    "            \n",
    "# generates a scatter_boxplot_plot with 5 KMeans and 200 bins    \n",
    "chemcharts_cli -input_data test.pkl \\\n",
    "               -output_plot test.png \\\n",
    "               -plot scatter_boxplot_plot \\  \n",
    "               -k 5 \\\n",
    "               -binning 200"
   ]
  },
  {
   "cell_type": "markdown",
   "id": "proper-contemporary",
   "metadata": {},
   "source": [
    "### Note: \n",
    "For large data sets it might be advisable to save the generated data in a `pkl` file, which can be used later in order to bypass the data preparation tasks."
   ]
  },
  {
   "cell_type": "code",
   "execution_count": null,
   "id": "secret-honey",
   "metadata": {},
   "outputs": [],
   "source": [
    "# generates a hexagonal plot (default) and saves the data in a pkl file\n",
    "chemcharts_cli -input_data data/scaffold_memory.csv \\           \n",
    "               -save_data test.pkl \\                            \n",
    "               -output_plot test.png   "
   ]
  },
  {
   "cell_type": "markdown",
   "id": "neither-genesis",
   "metadata": {},
   "source": [
    "For the following runs data can be accessed from the `pkl` file and does not need to be generated repeatedly."
   ]
  },
  {
   "cell_type": "code",
   "execution_count": null,
   "id": "sought-pursuit",
   "metadata": {},
   "outputs": [],
   "source": [
    "# accesses data from pkl file and generates a scatter_static_plot\n",
    "chemcharts_cli -input_data test.pkl \\\n",
    "               -output_plot test.png \\\n",
    "               -plot scatter_static_plot"
   ]
  },
  {
   "cell_type": "markdown",
   "id": "focused-crawford",
   "metadata": {},
   "source": [
    "## JSON Entry Point"
   ]
  },
  {
   "cell_type": "markdown",
   "id": "alien-drink",
   "metadata": {},
   "source": [
    "To run a ```JSON``` entry point only a single argument is required. For details on how to use this interface, please have a look at the respective notebook."
   ]
  },
  {
   "cell_type": "code",
   "execution_count": null,
   "id": "featured-sally",
   "metadata": {},
   "outputs": [],
   "source": [
    "-conf <path>           # Path to JSON configuration file\n",
    "                       # type=str \n",
    "                       # required"
   ]
  },
  {
   "cell_type": "markdown",
   "id": "c0f7df57",
   "metadata": {},
   "source": [
    "### Example"
   ]
  },
  {
   "cell_type": "code",
   "execution_count": null,
   "id": "f8342d6e",
   "metadata": {},
   "outputs": [],
   "source": [
    "# call JSON interface with a configuration JSON\n",
    "chemcharts -conf config.json"
   ]
  }
 ],
 "metadata": {
  "kernelspec": {
   "display_name": "Python 3 (ipykernel)",
   "language": "python",
   "name": "python3"
  },
  "language_info": {
   "codemirror_mode": {
    "name": "ipython",
    "version": 3
   },
   "file_extension": ".py",
   "mimetype": "text/x-python",
   "name": "python",
   "nbconvert_exporter": "python",
   "pygments_lexer": "ipython3",
   "version": "3.9.9"
  }
 },
 "nbformat": 4,
 "nbformat_minor": 5
}
